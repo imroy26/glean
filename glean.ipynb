{
 "cells": [
  {
   "cell_type": "markdown",
   "metadata": {},
   "source": [
    "### Technical Test - First round interview with Glean"
   ]
  },
  {
   "cell_type": "markdown",
   "metadata": {},
   "source": [
    "Task:\n",
    "\n",
    "\tUsing two input CSVs, create a Spark Scala/PySpark/Dask application (you can use any other distributed framework for data processing) which will process input data and create and store a new CSV with insights (what we call gleans).\n",
    "\tThe app with the code should be pushed to GitHub/GitLab or any other git based platform.\n",
    "\n",
    "Input CSVs structure:\n",
    "\n",
    " - invoice\n",
    "\n",
    " \tinvoice_id - Invoice UUID,\n",
    "\tinvoice_date - Issue date,\n",
    "\tdue_date - Due date,\n",
    "\tperiod_start_date - Start date (if any) of service dates that invoice covers,\n",
    "\tperiod_end_date - End date (if any) of service dates that invoice covers,\n",
    "\ttotal_amount - Billed Amount,\n",
    "\tcanonical_vendor_id - Vendor UUID\n",
    "\n",
    " - line_item\n",
    "\n",
    " \tinvoice_id - Invoice UUID,\n",
    "\tline_item_id - Raw Line Item UUID,\n",
    "\tperiod_start_date - Start date (if any) of service dates that raw line item covers,\n",
    "\tperiod_end_date - End date (if any) of service dates that raw line item covers,\n",
    "\ttotal_amount - Billed Amount,\n",
    "\tcanonical_line_item_id - Canonical line item UUID\n",
    "\n",
    "Additional notes:\n",
    "\t\n",
    "\t- 1:M relationship between invoice and line_item\n",
    "\t- 1:M relationship between line_item_id and canonical_line_item_id (i.e. different raw line items can be mapped to a single canonical line item)\n",
    "\n",
    "Gleans (insights) to be generated and backfilled in the past:\n",
    "\n",
    " - vendor_not_seen_in_a_while\n",
    "\n",
    "\tlogic:\n",
    "\t1) don't trigger if invoice received from the vendor for the first time\n",
    "\t2) trigger if invoice received from the vendor and it's > 90 days since last `invoice_date`\n",
    "\n",
    "\tglean_text (text of the glean to be created):\n",
    "\t\tFirst new bill in [count_of_months_since_last_invoice] months from vendor [canonical_vendor_id]\n",
    "\n",
    "\tglean_location:\n",
    "\t\tinvoice (this glean should be created on an invoice level)\n",
    "\n",
    " - accrual_alert\n",
    "\n",
    "\tlogic:\n",
    "\t1) trigger if `period_end_date` for invoice or any line item > 90 days after `invoice_date`\n",
    "\t   If there are multiple end dates, pick the last one.\n",
    "\n",
    "\tglean_text (text of the glean to be created):\n",
    "\t\tLine items from vendor [canonical_vendor_id] in this invoice cover future periods (through [period_end_date])\n",
    "\n",
    "\tglean_location:\n",
    "\t\tinvoice (this glean should be created on an invoice level)\n",
    "\n",
    " - large_month_increase_mtd\n",
    "\n",
    "\tlogic:\n",
    "\t1) trigger if monthly spend > $10K and it increased > 50% of average spend over last 12 months. If monthly spend is less than $10K, > 200%. If less than $1K, > 500%. If less than $100, don't trigger the glean. Spend is sum of invoice `total_amount`.\n",
    "\n",
    "\n",
    "\tglean_text (text of the glean to be created):\n",
    "\t\tMonthly spend with [canonical_vendor_id] is $x (x%) higher than average\n",
    "\n",
    "\tglean_location:\n",
    "\t\tvendor (this glean should be created on a vendor level)\n",
    "\n",
    " - no_invoice_received\n",
    "\n",
    "\tlogic:\n",
    "\t1) trigger if vendor sends invoice(s) either on MONTHLY basis (1 or more per month) or QUARTERLY basis (1 per quarter).\n",
    "\n",
    "\t\t1.1) MONTHLY case: trigger if there were 3 consecutive months with invoices received from vendor but there are no invoices received in current month.\n",
    "\t\t\t Start triggering the glean from the day when vendor usually sends the invoice (you need to count day frequency). Keep triggering the glean till the end of the current month or until the day when new invoice received.\n",
    "\t\t\t If there are multiple days based on frequency count, pick the earliest one.\n",
    "\n",
    "\t\t1.2) QUARTERLY case: trigger if there were 2 consecutive quarters with invoices received from vendor but there are no invoices received in current quarter.\n",
    "\t\t\t Start triggering the glean from the day when vendor usually sends the invoice (you need to count day frequency). Keep triggering the glean till the end of the current month of the quarter or until the day when new invoice received.\n",
    "\t\t\t If there are multiple days based on frequency count, pick the earliest one.\n",
    "\n",
    "\n",
    "\tglean_text (text of the glean to be created):\n",
    "\t\t[canonical_vendor_id] generally charges between on [most_frequent_day_number] day of each month invoices are sent. On [date], an invoice from [canonical_vendor_id] has not been received\n",
    "\n",
    "\tglean_location:\n",
    "\t\tvendor (this glean should be created on a vendor level)\n",
    "\n",
    "Output CSV structure:\n",
    "\n",
    "\tglean_id - Glean UUID\n",
    "\tglean_date - Date when glean was triggered\n",
    "\tglean_text - Glean Text\n",
    "\tglean_type - Enum (vendor_not_seen_in_a_while, accrual_alert, large_month_increase_mtd, no_invoice_received)\n",
    "\tglean_location - Enum (invoice or vendor)\n",
    "\tinvoice_id - Invoice UUID\n",
    "\tcanonical_vendor_id - Vendor UUID\n"
   ]
  },
  {
   "cell_type": "markdown",
   "metadata": {},
   "source": [
    "<hr>"
   ]
  },
  {
   "cell_type": "markdown",
   "metadata": {},
   "source": [
    "#### Setting-up Spark"
   ]
  },
  {
   "cell_type": "code",
   "execution_count": 1,
   "metadata": {},
   "outputs": [],
   "source": [
    "import findspark\n",
    "findspark.init('/home/sarbajit/spark-hadoop/')"
   ]
  },
  {
   "cell_type": "code",
   "execution_count": 2,
   "metadata": {},
   "outputs": [],
   "source": [
    "from pyspark.sql import SparkSession"
   ]
  },
  {
   "cell_type": "code",
   "execution_count": 3,
   "metadata": {},
   "outputs": [],
   "source": [
    "#building/Configuring the Spark Session\n",
    "spark = SparkSession.builder.appName('glean').getOrCreate()"
   ]
  },
  {
   "cell_type": "markdown",
   "metadata": {},
   "source": [
    "#### Importing Dependencies and Libraries"
   ]
  },
  {
   "cell_type": "code",
   "execution_count": 4,
   "metadata": {},
   "outputs": [],
   "source": [
    "from pyspark.sql.types import (StructField,StructType,StringType,\n",
    "                              FloatType,StringType,DoubleType,\n",
    "                               DateType)"
   ]
  },
  {
   "cell_type": "code",
   "execution_count": 5,
   "metadata": {},
   "outputs": [],
   "source": [
    "from pyspark.sql.functions import format_number, round, datediff, year, months_between,concat, lit, col, current_date\n",
    "import pyspark.sql.functions as funcs\n",
    "from pyspark.sql.window import Window\n",
    "import functools "
   ]
  },
  {
   "cell_type": "markdown",
   "metadata": {},
   "source": [
    "#### Reading Raw Data"
   ]
  },
  {
   "cell_type": "code",
   "execution_count": 6,
   "metadata": {},
   "outputs": [],
   "source": [
    "df_invoice = spark.read.csv('data/invoice.csv', inferSchema=True, header=True)"
   ]
  },
  {
   "cell_type": "code",
   "execution_count": 7,
   "metadata": {},
   "outputs": [],
   "source": [
    "df_line_item = spark.read.csv('data/line_item.csv', inferSchema=True, header=True)"
   ]
  },
  {
   "cell_type": "code",
   "execution_count": 8,
   "metadata": {},
   "outputs": [
    {
     "name": "stdout",
     "output_type": "stream",
     "text": [
      "root\n",
      " |-- invoice_id: string (nullable = true)\n",
      " |-- invoice_date: string (nullable = true)\n",
      " |-- due_date: string (nullable = true)\n",
      " |-- period_start_date: string (nullable = true)\n",
      " |-- period_end_date: string (nullable = true)\n",
      " |-- total_amount: double (nullable = true)\n",
      " |-- canonical_vendor_id: string (nullable = true)\n",
      "\n"
     ]
    }
   ],
   "source": [
    "# Schema for invoice dataset\n",
    "df_invoice.printSchema()"
   ]
  },
  {
   "cell_type": "markdown",
   "metadata": {},
   "source": [
    "Note: We need to convert due_date, period_end_date and period_start_date into date format."
   ]
  },
  {
   "cell_type": "code",
   "execution_count": 9,
   "metadata": {},
   "outputs": [],
   "source": [
    "data_schema_invoice = [StructField('invoice_id', StringType(), True),\n",
    "                      StructField('invoice_date', DateType(), True),\n",
    "                      StructField('due_date', DateType(), True),\n",
    "                      StructField('period_start_date', DateType(), True),\n",
    "                      StructField('period_end_date', DateType(), True),\n",
    "                      StructField('total_amount', DoubleType(), True),\n",
    "                      StructField('canonical_vendor_id', StringType(), True)]"
   ]
  },
  {
   "cell_type": "code",
   "execution_count": 10,
   "metadata": {},
   "outputs": [],
   "source": [
    "data_schema_invoice_field = StructType(fields=data_schema_invoice)"
   ]
  },
  {
   "cell_type": "code",
   "execution_count": 11,
   "metadata": {},
   "outputs": [],
   "source": [
    "# Applying the new schema on the dateset\n",
    "df_invoice_main = spark.read.csv('data/invoice.csv', schema=data_schema_invoice_field, inferSchema=True, header=True)"
   ]
  },
  {
   "cell_type": "code",
   "execution_count": 12,
   "metadata": {},
   "outputs": [
    {
     "name": "stdout",
     "output_type": "stream",
     "text": [
      "root\n",
      " |-- invoice_id: string (nullable = true)\n",
      " |-- invoice_date: date (nullable = true)\n",
      " |-- due_date: date (nullable = true)\n",
      " |-- period_start_date: date (nullable = true)\n",
      " |-- period_end_date: date (nullable = true)\n",
      " |-- total_amount: double (nullable = true)\n",
      " |-- canonical_vendor_id: string (nullable = true)\n",
      "\n"
     ]
    }
   ],
   "source": [
    "df_invoice_main.printSchema()"
   ]
  },
  {
   "cell_type": "code",
   "execution_count": 13,
   "metadata": {},
   "outputs": [
    {
     "data": {
      "text/plain": [
       "1633"
      ]
     },
     "execution_count": 13,
     "metadata": {},
     "output_type": "execute_result"
    }
   ],
   "source": [
    "df_invoice_main.count()"
   ]
  },
  {
   "cell_type": "markdown",
   "metadata": {},
   "source": [
    "Do: for line_item dataset"
   ]
  },
  {
   "cell_type": "code",
   "execution_count": 14,
   "metadata": {},
   "outputs": [
    {
     "name": "stdout",
     "output_type": "stream",
     "text": [
      "root\n",
      " |-- invoice_id: string (nullable = true)\n",
      " |-- line_item_id: string (nullable = true)\n",
      " |-- period_start_date: string (nullable = true)\n",
      " |-- period_end_date: string (nullable = true)\n",
      " |-- total_amount: double (nullable = true)\n",
      " |-- canonical_line_item_id: string (nullable = true)\n",
      "\n"
     ]
    }
   ],
   "source": [
    "# Schema for invoice dataset\n",
    "df_line_item.printSchema()"
   ]
  },
  {
   "cell_type": "code",
   "execution_count": 15,
   "metadata": {},
   "outputs": [
    {
     "data": {
      "text/plain": [
       "6340"
      ]
     },
     "execution_count": 15,
     "metadata": {},
     "output_type": "execute_result"
    }
   ],
   "source": [
    "df_line_item.count()"
   ]
  },
  {
   "cell_type": "code",
   "execution_count": 16,
   "metadata": {},
   "outputs": [],
   "source": [
    "data_schema_line_item = [StructField('invoice_id', StringType(), True),\n",
    "                        StructField('line_item_id', StringType(), True),\n",
    "                        StructField('period_start_date', DateType(), True),\n",
    "                        StructField('period_end_date', DateType(), True),\n",
    "                        StructField('total_amount', DoubleType(), True),\n",
    "                        StructField('canonical_line_item_id', StringType(), True)]"
   ]
  },
  {
   "cell_type": "code",
   "execution_count": 17,
   "metadata": {},
   "outputs": [],
   "source": [
    "data_schema_Line_item_field = StructType(fields=data_schema_line_item)"
   ]
  },
  {
   "cell_type": "code",
   "execution_count": 18,
   "metadata": {},
   "outputs": [],
   "source": [
    "df_line_item_main = spark.read.csv('data/line_item.csv', schema=data_schema_Line_item_field, inferSchema=True, header=True)"
   ]
  },
  {
   "cell_type": "code",
   "execution_count": 19,
   "metadata": {},
   "outputs": [
    {
     "name": "stdout",
     "output_type": "stream",
     "text": [
      "root\n",
      " |-- invoice_id: string (nullable = true)\n",
      " |-- line_item_id: string (nullable = true)\n",
      " |-- period_start_date: date (nullable = true)\n",
      " |-- period_end_date: date (nullable = true)\n",
      " |-- total_amount: double (nullable = true)\n",
      " |-- canonical_line_item_id: string (nullable = true)\n",
      "\n"
     ]
    }
   ],
   "source": [
    "df_line_item_main.printSchema()"
   ]
  },
  {
   "cell_type": "markdown",
   "metadata": {},
   "source": [
    "<hr>"
   ]
  },
  {
   "cell_type": "markdown",
   "metadata": {},
   "source": [
    "#### vendor_not_seen_in_a_while"
   ]
  },
  {
   "cell_type": "code",
   "execution_count": 20,
   "metadata": {},
   "outputs": [],
   "source": [
    "w_1 = Window.partitionBy('canonical_vendor_id')"
   ]
  },
  {
   "cell_type": "code",
   "execution_count": 23,
   "metadata": {},
   "outputs": [],
   "source": [
    "#Keeping on the duplicate vendor IDs\n",
    "df_invoice_exist_vendor = df_invoice_main.select('*', funcs.count('canonical_vendor_id').over(w_1).alias('dupCount')).where('dupCount > 1').drop('dupCount')"
   ]
  },
  {
   "cell_type": "code",
   "execution_count": 24,
   "metadata": {},
   "outputs": [
    {
     "data": {
      "text/plain": [
       "1524"
      ]
     },
     "execution_count": 24,
     "metadata": {},
     "output_type": "execute_result"
    }
   ],
   "source": [
    "df_invoice_exist_vendor.count()"
   ]
  },
  {
   "cell_type": "code",
   "execution_count": 25,
   "metadata": {},
   "outputs": [
    {
     "name": "stdout",
     "output_type": "stream",
     "text": [
      "root\n",
      " |-- invoice_id: string (nullable = true)\n",
      " |-- invoice_date: date (nullable = true)\n",
      " |-- due_date: date (nullable = true)\n",
      " |-- period_start_date: date (nullable = true)\n",
      " |-- period_end_date: date (nullable = true)\n",
      " |-- total_amount: double (nullable = true)\n",
      " |-- canonical_vendor_id: string (nullable = true)\n",
      "\n"
     ]
    }
   ],
   "source": [
    "df_invoice_exist_vendor.printSchema()"
   ]
  },
  {
   "cell_type": "code",
   "execution_count": 26,
   "metadata": {},
   "outputs": [],
   "source": [
    "w_2 = Window.partitionBy('canonical_vendor_id').orderBy('invoice_date')"
   ]
  },
  {
   "cell_type": "code",
   "execution_count": 27,
   "metadata": {},
   "outputs": [],
   "source": [
    "df_invoice_datediff = df_invoice_exist_vendor.withColumn(\"Days_since_last\", funcs.datediff(df_invoice_exist_vendor.invoice_date, funcs.lag(df_invoice_exist_vendor.invoice_date, 1).over(w_2)))"
   ]
  },
  {
   "cell_type": "code",
   "execution_count": 28,
   "metadata": {},
   "outputs": [],
   "source": [
    "df_invoice_datediff = df_invoice_datediff.orderBy(df_invoice_datediff['Days_since_last'].desc())"
   ]
  },
  {
   "cell_type": "code",
   "execution_count": 29,
   "metadata": {},
   "outputs": [],
   "source": [
    "df_invoice_datediff_monthcount = df_invoice_datediff.withColumn('Month_Counts', format_number(df_invoice_datediff['days_since_last']/12,0))"
   ]
  },
  {
   "cell_type": "code",
   "execution_count": 30,
   "metadata": {},
   "outputs": [],
   "source": [
    "# Checking for the condition\n",
    "glean_1 = df_invoice_datediff_monthcount.filter(df_invoice_datediff_monthcount['Days_since_last'] > 90)"
   ]
  },
  {
   "cell_type": "code",
   "execution_count": 31,
   "metadata": {},
   "outputs": [
    {
     "data": {
      "text/plain": [
       "110"
      ]
     },
     "execution_count": 31,
     "metadata": {},
     "output_type": "execute_result"
    }
   ],
   "source": [
    "glean_1.count()"
   ]
  },
  {
   "cell_type": "code",
   "execution_count": 32,
   "metadata": {},
   "outputs": [],
   "source": [
    "# Creating glean_id, glean_date, glean_text, and glean_location\n",
    "def add_columns_glean_1(x):\n",
    "    \n",
    "    x = x.withColumn('glean_text', concat(lit(\"First new bill in \"), col(\"Month_Counts\"), lit(\" months from vendor \"), col(\"canonical_vendor_id\")))\n",
    "    \n",
    "    x = x.withColumn('glean_id', concat(col(\"invoice_id\"), lit(\"-\"), col(\"canonical_vendor_id\")))\n",
    "    \n",
    "    x = x.withColumn('glean_type', funcs.format_string('vendor_not_seen_in_a_while'))\n",
    "    \n",
    "    x = x.withColumn('glean_location', funcs.format_string('invoice'))\n",
    "    x = x.withColumn('glean_date', current_date())\n",
    "    \n",
    "    return x"
   ]
  },
  {
   "cell_type": "code",
   "execution_count": 33,
   "metadata": {},
   "outputs": [],
   "source": [
    "glean_1_ = add_columns_glean_1(glean_1)"
   ]
  },
  {
   "cell_type": "code",
   "execution_count": 34,
   "metadata": {},
   "outputs": [],
   "source": [
    "glean_1_final = glean_1_.select(['glean_id', 'glean_date', 'glean_text', 'glean_type', 'glean_location', 'invoice_id', 'canonical_vendor_id'])"
   ]
  },
  {
   "cell_type": "code",
   "execution_count": 35,
   "metadata": {},
   "outputs": [
    {
     "data": {
      "text/plain": [
       "110"
      ]
     },
     "execution_count": 35,
     "metadata": {},
     "output_type": "execute_result"
    }
   ],
   "source": [
    "glean_1_final.count()"
   ]
  },
  {
   "cell_type": "markdown",
   "metadata": {},
   "source": [
    "<hr>"
   ]
  },
  {
   "cell_type": "markdown",
   "metadata": {},
   "source": [
    "#### accural_alert"
   ]
  },
  {
   "cell_type": "code",
   "execution_count": 36,
   "metadata": {},
   "outputs": [],
   "source": [
    "df_invoice_line = df_invoice_main.join(df_line_item_main, df_invoice_main[\"invoice_id\"] == df_line_item_main[\"invoice_id\"]).select(df_invoice_main['*'],df_line_item_main['line_item_id'],df_line_item_main['canonical_line_item_id'])"
   ]
  },
  {
   "cell_type": "code",
   "execution_count": 37,
   "metadata": {},
   "outputs": [
    {
     "name": "stdout",
     "output_type": "stream",
     "text": [
      "root\n",
      " |-- invoice_id: string (nullable = true)\n",
      " |-- invoice_date: date (nullable = true)\n",
      " |-- due_date: date (nullable = true)\n",
      " |-- period_start_date: date (nullable = true)\n",
      " |-- period_end_date: date (nullable = true)\n",
      " |-- total_amount: double (nullable = true)\n",
      " |-- canonical_vendor_id: string (nullable = true)\n",
      " |-- line_item_id: string (nullable = true)\n",
      " |-- canonical_line_item_id: string (nullable = true)\n",
      "\n"
     ]
    }
   ],
   "source": [
    "df_invoice_line.printSchema()"
   ]
  },
  {
   "cell_type": "code",
   "execution_count": 38,
   "metadata": {},
   "outputs": [
    {
     "data": {
      "text/plain": [
       "6340"
      ]
     },
     "execution_count": 38,
     "metadata": {},
     "output_type": "execute_result"
    }
   ],
   "source": [
    "df_invoice_line.count()"
   ]
  },
  {
   "cell_type": "code",
   "execution_count": 39,
   "metadata": {},
   "outputs": [],
   "source": [
    "df_invoice_line_datediff = df_invoice_line.withColumn('Date_diff', datediff(col('invoice_date'),col('period_end_date')))"
   ]
  },
  {
   "cell_type": "code",
   "execution_count": 40,
   "metadata": {},
   "outputs": [],
   "source": [
    "df_invoice_line_datediff = df_invoice_line_datediff.filter(df_invoice_line_datediff['date_diff'] > 90 )"
   ]
  },
  {
   "cell_type": "code",
   "execution_count": 41,
   "metadata": {},
   "outputs": [
    {
     "data": {
      "text/plain": [
       "5"
      ]
     },
     "execution_count": 41,
     "metadata": {},
     "output_type": "execute_result"
    }
   ],
   "source": [
    "df_invoice_line_datediff.count()"
   ]
  },
  {
   "cell_type": "code",
   "execution_count": 42,
   "metadata": {},
   "outputs": [],
   "source": [
    "# Creating glean_id, glean_date, glean_text, and glean_location\n",
    "def add_columns_glean_2(x):\n",
    "    \n",
    "    x = x.withColumn('glean_text', concat(lit(\"Line items from vendor \"), col(\"canonical_vendor_id\"), lit(\" in this invoice cover future periods (thorugh \"),col('period_end_date')))\n",
    "    \n",
    "    x = x.withColumn('glean_id', concat(col(\"invoice_id\"), lit(\"-\"), col(\"canonical_vendor_id\")))\n",
    "    \n",
    "    x = x.withColumn('glean_type', funcs.format_string('accrual_alert'))\n",
    "    \n",
    "    x = x.withColumn('glean_location', funcs.format_string('invoice'))\n",
    "    x = x.withColumn('glean_date', current_date())\n",
    "    \n",
    "    return x"
   ]
  },
  {
   "cell_type": "code",
   "execution_count": 43,
   "metadata": {},
   "outputs": [],
   "source": [
    "glean_2 = add_columns_glean_2(df_invoice_line_datediff)"
   ]
  },
  {
   "cell_type": "code",
   "execution_count": 44,
   "metadata": {},
   "outputs": [],
   "source": [
    "glean_2_final = glean_2.select(['glean_id', 'glean_date', 'glean_text', 'glean_type', 'glean_location', 'invoice_id', 'canonical_vendor_id'])"
   ]
  },
  {
   "cell_type": "code",
   "execution_count": 45,
   "metadata": {},
   "outputs": [
    {
     "data": {
      "text/plain": [
       "5"
      ]
     },
     "execution_count": 45,
     "metadata": {},
     "output_type": "execute_result"
    }
   ],
   "source": [
    "glean_2_final.count()"
   ]
  },
  {
   "cell_type": "markdown",
   "metadata": {},
   "source": [
    "<hr>"
   ]
  },
  {
   "cell_type": "markdown",
   "metadata": {},
   "source": [
    "#### large_month_increase_mtd"
   ]
  },
  {
   "cell_type": "code",
   "execution_count": 46,
   "metadata": {},
   "outputs": [
    {
     "name": "stdout",
     "output_type": "stream",
     "text": [
      "root\n",
      " |-- invoice_id: string (nullable = true)\n",
      " |-- invoice_date: date (nullable = true)\n",
      " |-- due_date: date (nullable = true)\n",
      " |-- period_start_date: date (nullable = true)\n",
      " |-- period_end_date: date (nullable = true)\n",
      " |-- total_amount: double (nullable = true)\n",
      " |-- canonical_vendor_id: string (nullable = true)\n",
      "\n"
     ]
    }
   ],
   "source": [
    "df_invoice_main.printSchema()"
   ]
  },
  {
   "cell_type": "code",
   "execution_count": 47,
   "metadata": {},
   "outputs": [],
   "source": [
    "df_invoice_large_month = df_invoice_main.groupby('canonical_vendor_id', year('invoice_date')).sum()"
   ]
  },
  {
   "cell_type": "code",
   "execution_count": 48,
   "metadata": {},
   "outputs": [
    {
     "data": {
      "text/plain": [
       "351"
      ]
     },
     "execution_count": 48,
     "metadata": {},
     "output_type": "execute_result"
    }
   ],
   "source": [
    "df_invoice_large_month.count()"
   ]
  },
  {
   "cell_type": "code",
   "execution_count": 49,
   "metadata": {},
   "outputs": [],
   "source": [
    "# To generate the Month difference between period_start_date to period_end_date\n",
    "df_invoice_month_diff = df_invoice_main.withColumn('Month_diff', format_number(months_between(col('period_end_date'), col('period_start_date')),0))"
   ]
  },
  {
   "cell_type": "code",
   "execution_count": 50,
   "metadata": {},
   "outputs": [
    {
     "data": {
      "text/plain": [
       "DataFrame[invoice_id: string, invoice_date: date, due_date: date, period_start_date: date, period_end_date: date, total_amount: double, canonical_vendor_id: string, Month_diff: string]"
      ]
     },
     "execution_count": 50,
     "metadata": {},
     "output_type": "execute_result"
    }
   ],
   "source": [
    "df_invoice_month_diff"
   ]
  },
  {
   "cell_type": "code",
   "execution_count": 51,
   "metadata": {},
   "outputs": [],
   "source": [
    "# To generate the monthly spending\n",
    "df_invoice_monthly_spend = df_invoice_month_diff.withColumn(\"monthly_spend\",df_invoice_month_diff['total_amount']/df_invoice_month_diff['month_diff'])"
   ]
  },
  {
   "cell_type": "code",
   "execution_count": 52,
   "metadata": {},
   "outputs": [
    {
     "data": {
      "text/plain": [
       "DataFrame[invoice_id: string, invoice_date: date, due_date: date, period_start_date: date, period_end_date: date, total_amount: double, canonical_vendor_id: string, Month_diff: string, monthly_spend: double]"
      ]
     },
     "execution_count": 52,
     "metadata": {},
     "output_type": "execute_result"
    }
   ],
   "source": [
    "df_invoice_monthly_spend"
   ]
  },
  {
   "cell_type": "code",
   "execution_count": 53,
   "metadata": {},
   "outputs": [],
   "source": [
    "#To Generate Percentage Change\n",
    "df_invoice_monthly_perchange = df_invoice_monthly_spend.withColumn('Perchange', funcs.col('monthly_spend')/funcs.sum('monthly_spend').over(Window.partitionBy())*100)"
   ]
  },
  {
   "cell_type": "code",
   "execution_count": 55,
   "metadata": {},
   "outputs": [
    {
     "name": "stdout",
     "output_type": "stream",
     "text": [
      "root\n",
      " |-- invoice_id: string (nullable = true)\n",
      " |-- invoice_date: date (nullable = true)\n",
      " |-- due_date: date (nullable = true)\n",
      " |-- period_start_date: date (nullable = true)\n",
      " |-- period_end_date: date (nullable = true)\n",
      " |-- total_amount: double (nullable = true)\n",
      " |-- canonical_vendor_id: string (nullable = true)\n",
      " |-- Month_diff: string (nullable = true)\n",
      " |-- monthly_spend: double (nullable = true)\n",
      " |-- Perchange: double (nullable = true)\n",
      "\n"
     ]
    }
   ],
   "source": [
    "df_invoice_monthly_perchange.printSchema()"
   ]
  },
  {
   "cell_type": "code",
   "execution_count": 56,
   "metadata": {},
   "outputs": [],
   "source": [
    "\n",
    "glean_3 = df_invoice_monthly_perchange.filter(\n",
    "    ((df_invoice_monthly_perchange['monthly_spend'] > 10000) &\n",
    "    (df_invoice_monthly_perchange['Perchange'] > 0.50)) |\n",
    "    \n",
    "    ((df_invoice_monthly_perchange['monthly_spend'] < 10000) &\n",
    "    (df_invoice_monthly_perchange['Perchange'] > 2.00)) |\n",
    "    \n",
    "    ((df_invoice_monthly_perchange['monthly_spend'] < 1000) &\n",
    "    (df_invoice_monthly_perchange['Perchange'] > 5.00))\n",
    "    )"
   ]
  },
  {
   "cell_type": "code",
   "execution_count": 57,
   "metadata": {},
   "outputs": [
    {
     "data": {
      "text/plain": [
       "37"
      ]
     },
     "execution_count": 57,
     "metadata": {},
     "output_type": "execute_result"
    }
   ],
   "source": [
    "glean_3.count()"
   ]
  },
  {
   "cell_type": "code",
   "execution_count": 58,
   "metadata": {},
   "outputs": [],
   "source": [
    "# Creating glean_id, glean_date, glean_text, and glean_location\n",
    "def add_columns_glean_3(x):\n",
    "    \n",
    "    x = x.withColumn('glean_text', concat(lit(\"Monthly spend with \"), col(\"canonical_vendor_id\"), lit(\" is \"),col('monthly_spend'), lit(\" (\"), format_number(col('Perchange')*100,0), lit(\"%) higher than average\")))\n",
    "    \n",
    "    x = x.withColumn('glean_id', concat(col(\"invoice_id\"), lit(\"-\"), col(\"canonical_vendor_id\")))\n",
    "    \n",
    "    x = x.withColumn('glean_type', funcs.format_string('large_month_increase_mtd'))\n",
    "    \n",
    "    x = x.withColumn('glean_location', funcs.format_string('vendor'))\n",
    "    \n",
    "    x = x.withColumn('glean_date', current_date())\n",
    "    \n",
    "    return x"
   ]
  },
  {
   "cell_type": "code",
   "execution_count": 59,
   "metadata": {},
   "outputs": [],
   "source": [
    "glean_3 = add_columns_glean_3(glean_3)"
   ]
  },
  {
   "cell_type": "code",
   "execution_count": 60,
   "metadata": {},
   "outputs": [],
   "source": [
    "glean_3_final = glean_3.select(['glean_id', 'glean_date', 'glean_text', 'glean_type', 'glean_location', 'invoice_id', 'canonical_vendor_id'])"
   ]
  },
  {
   "cell_type": "code",
   "execution_count": 61,
   "metadata": {},
   "outputs": [
    {
     "data": {
      "text/plain": [
       "Row(glean_id='1136d6cd-6231-4513-b0a8-56d73da9aed3-b46d7ca6-ca5f-44ce-afc8-d492f69c7e32', glean_date=datetime.date(2020, 12, 21), glean_text='Monthly spend with b46d7ca6-ca5f-44ce-afc8-d492f69c7e32 is 43787.6 (69%) higher than average', glean_type='large_month_increase_mtd', glean_location='vendor', invoice_id='1136d6cd-6231-4513-b0a8-56d73da9aed3', canonical_vendor_id='b46d7ca6-ca5f-44ce-afc8-d492f69c7e32')"
      ]
     },
     "execution_count": 61,
     "metadata": {},
     "output_type": "execute_result"
    }
   ],
   "source": [
    "glean_3_final.head()"
   ]
  },
  {
   "cell_type": "markdown",
   "metadata": {},
   "source": [
    "<hr>"
   ]
  },
  {
   "cell_type": "markdown",
   "metadata": {},
   "source": [
    "### Merging all the gleans"
   ]
  },
  {
   "cell_type": "code",
   "execution_count": 62,
   "metadata": {},
   "outputs": [],
   "source": [
    "def unionAll(dfs):\n",
    "    return functools.reduce(lambda df1,df2: df1.union(df2.select(df1.columns)), dfs) "
   ]
  },
  {
   "cell_type": "code",
   "execution_count": 63,
   "metadata": {},
   "outputs": [],
   "source": [
    "unioned_glean = unionAll([glean_1_final, glean_2_final, glean_3_final])"
   ]
  },
  {
   "cell_type": "code",
   "execution_count": 65,
   "metadata": {},
   "outputs": [
    {
     "data": {
      "text/plain": [
       "152"
      ]
     },
     "execution_count": 65,
     "metadata": {},
     "output_type": "execute_result"
    }
   ],
   "source": [
    "unioned_glean.count()"
   ]
  },
  {
   "cell_type": "code",
   "execution_count": 66,
   "metadata": {},
   "outputs": [
    {
     "data": {
      "text/plain": [
       "Row(glean_id='b6cf528c-a436-4735-b5ac-b687ed107f2c-b46d7ca6-ca5f-44ce-afc8-d492f69c7e32', glean_date=datetime.date(2020, 12, 21), glean_text='First new bill in 42 months from vendor b46d7ca6-ca5f-44ce-afc8-d492f69c7e32', glean_type='vendor_not_seen_in_a_while', glean_location='invoice', invoice_id='b6cf528c-a436-4735-b5ac-b687ed107f2c', canonical_vendor_id='b46d7ca6-ca5f-44ce-afc8-d492f69c7e32')"
      ]
     },
     "execution_count": 66,
     "metadata": {},
     "output_type": "execute_result"
    }
   ],
   "source": [
    "unioned_glean.head()"
   ]
  },
  {
   "cell_type": "code",
   "execution_count": 67,
   "metadata": {},
   "outputs": [],
   "source": [
    "unioned_glean.write.format('csv').option('header',True).mode('overwrite').option('sep',',').save('output/gleans.csv')"
   ]
  },
  {
   "cell_type": "code",
   "execution_count": null,
   "metadata": {},
   "outputs": [],
   "source": []
  },
  {
   "cell_type": "code",
   "execution_count": null,
   "metadata": {},
   "outputs": [],
   "source": []
  }
 ],
 "metadata": {
  "kernelspec": {
   "display_name": "Python 3",
   "language": "python",
   "name": "python3"
  },
  "language_info": {
   "codemirror_mode": {
    "name": "ipython",
    "version": 3
   },
   "file_extension": ".py",
   "mimetype": "text/x-python",
   "name": "python",
   "nbconvert_exporter": "python",
   "pygments_lexer": "ipython3",
   "version": "3.8.5"
  }
 },
 "nbformat": 4,
 "nbformat_minor": 4
}
